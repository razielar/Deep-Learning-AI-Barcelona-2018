{
 "cells": [
  {
   "cell_type": "markdown",
   "metadata": {},
   "source": [
    "# Convolution and Pooling layers\n",
    "## April 14th 2019"
   ]
  },
  {
   "cell_type": "code",
   "execution_count": 3,
   "metadata": {},
   "outputs": [],
   "source": [
    "import numpy as np\n",
    "import tensorflow as tf"
   ]
  },
  {
   "cell_type": "code",
   "execution_count": 10,
   "metadata": {},
   "outputs": [],
   "source": [
    "#We're going to define a model with 2 convolution layer, and then one input layer, one hidden layer and \n",
    "#one output layer\n",
    "#Sequential: defines a SEQUENCE of layers in the NN\n",
    "    #First convolution 2D layer with 64 filters and 3x3 filter dimension; Filters are need for the convolution\n",
    "    #Max_Pooling take the maximum value: compressing, this will perserve the features that were highlighted by the \n",
    "    #convolution\n",
    "#Neural Network with a input layer (Flatten), \n",
    "    #one hidden layer (128 neurons), \n",
    "    #output layer (10 neurons) 10 catogories\n",
    "#Flatten: turns 28X28 (two dimensions) into a linear array 784X1\n",
    "#Dense: fully connected neurons\n",
    "    #Activation function in the 128 neurons: ReLU\n",
    "    #Softmax: take the biggest value\n",
    "    \n",
    "\n",
    "model= tf.keras.models.Sequential([\n",
    "    #First Convolution\n",
    "    tf.keras.layers.Conv2D(64, (3,3), activation= 'relu', input_shape=(28,28,1)),\n",
    "    tf.keras.layers.MaxPool2D(2,2),\n",
    "    #Second Convolution\n",
    "    tf.keras.layers.Conv2D(64, (3,3), activation= 'relu'),\n",
    "    tf.keras.layers.MaxPool2D(2,2),\n",
    "    \n",
    "    #Neural Network: \n",
    "    tf.keras.layers.Flatten(), #Flat the 28x28 into one dimension array\n",
    "    tf.keras.layers.Dense(128, activation= tf.nn.relu), #One hidden layer with 128 neurons\n",
    "    tf.keras.layers.Dense(10, activation= tf.nn.softmax) #Output layer fully connected 'Dense' with 10 neurons \n",
    "])\n"
   ]
  },
  {
   "cell_type": "code",
   "execution_count": 11,
   "metadata": {},
   "outputs": [
    {
     "name": "stdout",
     "output_type": "stream",
     "text": [
      "_________________________________________________________________\n",
      "Layer (type)                 Output Shape              Param #   \n",
      "=================================================================\n",
      "conv2d_9 (Conv2D)            (None, 26, 26, 64)        640       \n",
      "_________________________________________________________________\n",
      "max_pooling2d_7 (MaxPooling2 (None, 13, 13, 64)        0         \n",
      "_________________________________________________________________\n",
      "conv2d_10 (Conv2D)           (None, 11, 11, 64)        36928     \n",
      "_________________________________________________________________\n",
      "max_pooling2d_8 (MaxPooling2 (None, 5, 5, 64)          0         \n",
      "_________________________________________________________________\n",
      "flatten_1 (Flatten)          (None, 1600)              0         \n",
      "_________________________________________________________________\n",
      "dense_2 (Dense)              (None, 128)               204928    \n",
      "_________________________________________________________________\n",
      "dense_3 (Dense)              (None, 10)                1290      \n",
      "=================================================================\n",
      "Total params: 243,786\n",
      "Trainable params: 243,786\n",
      "Non-trainable params: 0\n",
      "_________________________________________________________________\n"
     ]
    }
   ],
   "source": [
    "model.summary()"
   ]
  },
  {
   "cell_type": "markdown",
   "metadata": {},
   "source": [
    "**Output shape:** <br><br>\n",
    "**1)**  **First Convolution:** 26, 26; the filter is a 3x3 filter. The edges of the pixels don't have any neighbors. This means 2 pixels less in X and Y. <br>\n",
    "**2) Max Pooling:** (2,2)= it get reduce from 26x26 to 13x13. <br>\n",
    "**3) Second Convolution:** we lose one pixel margin as before there 13-2; 11. <br>\n",
    "**4) Max Pooling:** 11/2 5.5 => 5. <br>\n",
    "**5) Input layer:** 5x5 input images, due the convolution there're 64 new images with 5x5= 25; 25x64= 1600. <br>\n",
    "**6) Hidden layer:** 128 neurons. <br>\n",
    "**7) Output layer:** 10 neurons. \n",
    "\n",
    "\n",
    "\n",
    "\n"
   ]
  },
  {
   "cell_type": "code",
   "execution_count": null,
   "metadata": {},
   "outputs": [],
   "source": []
  },
  {
   "cell_type": "code",
   "execution_count": null,
   "metadata": {},
   "outputs": [],
   "source": []
  }
 ],
 "metadata": {
  "kernelspec": {
   "display_name": "Python 3",
   "language": "python",
   "name": "python3"
  },
  "language_info": {
   "codemirror_mode": {
    "name": "ipython",
    "version": 3
   },
   "file_extension": ".py",
   "mimetype": "text/x-python",
   "name": "python",
   "nbconvert_exporter": "python",
   "pygments_lexer": "ipython3",
   "version": "3.6.4"
  }
 },
 "nbformat": 4,
 "nbformat_minor": 2
}
