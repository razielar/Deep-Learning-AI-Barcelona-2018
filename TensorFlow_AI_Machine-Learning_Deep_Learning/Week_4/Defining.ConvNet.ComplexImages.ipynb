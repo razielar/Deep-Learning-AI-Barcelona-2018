{
 "cells": [
  {
   "cell_type": "markdown",
   "metadata": {},
   "source": [
    "# Defining a ConvNet to use complex images\n",
    "## April 17th 2019"
   ]
  },
  {
   "cell_type": "code",
   "execution_count": 2,
   "metadata": {},
   "outputs": [],
   "source": [
    "import tensorflow as tf"
   ]
  },
  {
   "cell_type": "markdown",
   "metadata": {},
   "source": [
    "Output layer of the NN, we only have one neuron for two classes, but it's because we have another activation function. **Sigmoid** is great for **binary classification**. We can use **two neurons** for the **sofmax function**, but it's *more efficient* using *one neuron using sigmoid function*. "
   ]
  },
  {
   "cell_type": "code",
   "execution_count": 5,
   "metadata": {},
   "outputs": [
    {
     "name": "stdout",
     "output_type": "stream",
     "text": [
      "_________________________________________________________________\n",
      "Layer (type)                 Output Shape              Param #   \n",
      "=================================================================\n",
      "conv2d_6 (Conv2D)            (None, 298, 298, 16)      448       \n",
      "_________________________________________________________________\n",
      "max_pooling2d_6 (MaxPooling2 (None, 149, 149, 16)      0         \n",
      "_________________________________________________________________\n",
      "conv2d_7 (Conv2D)            (None, 147, 147, 32)      4640      \n",
      "_________________________________________________________________\n",
      "max_pooling2d_7 (MaxPooling2 (None, 73, 73, 32)        0         \n",
      "_________________________________________________________________\n",
      "conv2d_8 (Conv2D)            (None, 71, 71, 64)        18496     \n",
      "_________________________________________________________________\n",
      "max_pooling2d_8 (MaxPooling2 (None, 35, 35, 64)        0         \n",
      "_________________________________________________________________\n",
      "flatten_2 (Flatten)          (None, 78400)             0         \n",
      "_________________________________________________________________\n",
      "dense_4 (Dense)              (None, 512)               40141312  \n",
      "_________________________________________________________________\n",
      "dense_5 (Dense)              (None, 1)                 513       \n",
      "=================================================================\n",
      "Total params: 40,165,409\n",
      "Trainable params: 40,165,409\n",
      "Non-trainable params: 0\n",
      "_________________________________________________________________\n"
     ]
    }
   ],
   "source": [
    "model= tf.keras.models.Sequential([\n",
    "    \n",
    "    ### Three Convolution layers\n",
    "    tf.keras.layers.Conv2D(16, (3,3), activation= 'relu',\n",
    "                          input_shape= (300, 300, 3)), #Color images\n",
    "    tf.keras.layers.MaxPool2D(2,2),\n",
    "    tf.keras.layers.Conv2D(32, (3,3), activation= 'relu'),\n",
    "    tf.keras.layers.MaxPool2D(2,2),\n",
    "    tf.keras.layers.Conv2D(64, (3,3), activation= 'relu'),\n",
    "    tf.keras.layers.MaxPool2D(2,2),\n",
    "    \n",
    "    ### Neural Network:\n",
    "    \n",
    "    tf.keras.layers.Flatten(),\n",
    "    tf.keras.layers.Dense(512, activation= 'relu'),\n",
    "    tf.keras.layers.Dense(1, activation= 'sigmoid') #One neuron for two classes\n",
    "])\n",
    "\n",
    "model.summary()"
   ]
  },
  {
   "cell_type": "markdown",
   "metadata": {},
   "source": [
    "## Description of the model:\n",
    "\n",
    "### Convolution layer:\n",
    "**First Convolution:** 300x300 images become 298x298; lossing the pixels from the edges. <br>\n",
    "**Max Pooling:** 1/4 of the image because of the (2,2) <br>\n",
    "**Second Convolution:** 147x147 images; lossing the pixels from the edges. <br>\n",
    "**Max Pooling:** 1/4 of the image because of the (2,2) <br>\n",
    "**Third Convolution:** 71x71 images; lossing the pixels from the edges. <br>\n",
    "**Max Pooling:** 1/4 of the image because of the (2,2) <br>\n",
    "\n",
    "### Neural Network:\n",
    "\n",
    "**Input layer:** Flatten the 35x35 images with 64 convolutions <br>\n",
    "**Hidden layer:** 512 neurons <br>\n",
    "**Output layer:** one neuron using the sigmoid function for binary classification\n"
   ]
  },
  {
   "cell_type": "code",
   "execution_count": 7,
   "metadata": {},
   "outputs": [
    {
     "data": {
      "text/plain": [
       "78400"
      ]
     },
     "execution_count": 7,
     "metadata": {},
     "output_type": "execute_result"
    }
   ],
   "source": [
    "35*35*64"
   ]
  },
  {
   "cell_type": "code",
   "execution_count": null,
   "metadata": {},
   "outputs": [],
   "source": []
  }
 ],
 "metadata": {
  "kernelspec": {
   "display_name": "Python 3",
   "language": "python",
   "name": "python3"
  },
  "language_info": {
   "codemirror_mode": {
    "name": "ipython",
    "version": 3
   },
   "file_extension": ".py",
   "mimetype": "text/x-python",
   "name": "python",
   "nbconvert_exporter": "python",
   "pygments_lexer": "ipython3",
   "version": "3.6.4"
  }
 },
 "nbformat": 4,
 "nbformat_minor": 2
}
