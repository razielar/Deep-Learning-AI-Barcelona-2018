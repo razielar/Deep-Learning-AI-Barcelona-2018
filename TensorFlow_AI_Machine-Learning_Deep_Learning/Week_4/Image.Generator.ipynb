{
 "cells": [
  {
   "cell_type": "markdown",
   "metadata": {},
   "source": [
    "# Image Generator\n",
    "## April 17th 2019"
   ]
  },
  {
   "cell_type": "code",
   "execution_count": 3,
   "metadata": {},
   "outputs": [],
   "source": [
    "import tensorflow as tf\n",
    "from tensorflow.keras.preprocessing.image import ImageDataGenerator"
   ]
  },
  {
   "cell_type": "markdown",
   "metadata": {},
   "source": [
    "## Image Generator\n",
    "You can play with different sizes in 'target_size' without modifying your source code. "
   ]
  },
  {
   "cell_type": "code",
   "execution_count": 5,
   "metadata": {},
   "outputs": [
    {
     "ename": "NameError",
     "evalue": "name 'traindir' is not defined",
     "output_type": "error",
     "traceback": [
      "\u001b[0;31m---------------------------------------------------------------------------\u001b[0m",
      "\u001b[0;31mNameError\u001b[0m                                 Traceback (most recent call last)",
      "\u001b[0;32m<ipython-input-5-616312ea48ea>\u001b[0m in \u001b[0;36m<module>\u001b[0;34m()\u001b[0m\n\u001b[1;32m      4\u001b[0m \u001b[0;31m#Put in the main directory that contain subdirectories that contain your data\u001b[0m\u001b[0;34m\u001b[0m\u001b[0;34m\u001b[0m\u001b[0m\n\u001b[1;32m      5\u001b[0m train_generator= train_datagen.flow_from_directory(\n\u001b[0;32m----> 6\u001b[0;31m     \u001b[0mtraindir\u001b[0m\u001b[0;34m,\u001b[0m\u001b[0;34m\u001b[0m\u001b[0m\n\u001b[0m\u001b[1;32m      7\u001b[0m     \u001b[0mtarget_size\u001b[0m\u001b[0;34m=\u001b[0m \u001b[0;34m(\u001b[0m\u001b[0;36m300\u001b[0m\u001b[0;34m,\u001b[0m \u001b[0;36m300\u001b[0m\u001b[0;34m)\u001b[0m\u001b[0;34m,\u001b[0m \u001b[0;31m#Images can come in different shapes and we need all of them the same size to train NN\u001b[0m\u001b[0;34m\u001b[0m\u001b[0m\n\u001b[1;32m      8\u001b[0m     \u001b[0mbatch_size\u001b[0m\u001b[0;34m=\u001b[0m \u001b[0;36m128\u001b[0m\u001b[0;34m,\u001b[0m\u001b[0;34m\u001b[0m\u001b[0m\n",
      "\u001b[0;31mNameError\u001b[0m: name 'traindir' is not defined"
     ]
    }
   ],
   "source": [
    "#### --- 1) Train:\n",
    "\n",
    "train_datagen= ImageDataGenerator(rescale= 1./255) #normalization\n",
    "\n",
    "#Put in the main directory that contain subdirectories that contain your data\n",
    "train_generator= train_datagen.flow_from_directory(\n",
    "    traindir,\n",
    "    target_size= (300, 300), #Images can come in different shapes and we need all of them the same size to train NN\n",
    "    batch_size= 128,\n",
    "    class_mode= 'binary'\n",
    "    \n",
    "    )\n",
    "\n",
    "#### --- 2) Test:\n",
    "\n",
    "test_datgen= ImageDataGenerator(rescale= 1./255)\n",
    "\n",
    "test_generator= test_datgen.flow_from_directory(\n",
    "    testdir,\n",
    "    target_size= (300, 300),\n",
    "    batch_size= 128,\n",
    "    class_mode= 'binary'\n",
    "\n",
    ")\n"
   ]
  },
  {
   "cell_type": "code",
   "execution_count": null,
   "metadata": {},
   "outputs": [],
   "source": []
  },
  {
   "cell_type": "code",
   "execution_count": null,
   "metadata": {},
   "outputs": [],
   "source": []
  },
  {
   "cell_type": "code",
   "execution_count": null,
   "metadata": {},
   "outputs": [],
   "source": []
  }
 ],
 "metadata": {
  "kernelspec": {
   "display_name": "Python 3",
   "language": "python",
   "name": "python3"
  },
  "language_info": {
   "codemirror_mode": {
    "name": "ipython",
    "version": 3
   },
   "file_extension": ".py",
   "mimetype": "text/x-python",
   "name": "python",
   "nbconvert_exporter": "python",
   "pygments_lexer": "ipython3",
   "version": "3.6.4"
  }
 },
 "nbformat": 4,
 "nbformat_minor": 2
}
