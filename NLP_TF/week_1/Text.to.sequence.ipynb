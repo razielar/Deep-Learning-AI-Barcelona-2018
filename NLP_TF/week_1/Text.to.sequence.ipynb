{
 "cells": [
  {
   "cell_type": "markdown",
   "metadata": {},
   "source": [
    "# Text to sequence\n",
    "## August 18th 2019"
   ]
  },
  {
   "cell_type": "code",
   "execution_count": 4,
   "metadata": {},
   "outputs": [
    {
     "name": "stdout",
     "output_type": "stream",
     "text": [
      "1.13.1\n"
     ]
    }
   ],
   "source": [
    "import tensorflow as tf\n",
    "print(tf.__version__)\n",
    "from tensorflow import keras\n",
    "from tensorflow.keras.preprocessing.text import Tokenizer"
   ]
  },
  {
   "cell_type": "code",
   "execution_count": 10,
   "metadata": {},
   "outputs": [],
   "source": [
    "sentence= ['I love my dog', 'I love my cat', 'You love my dog!', 'Do you think my dog is amazing?']\n",
    "\n",
    "tokenizer= Tokenizer(num_words=100)\n",
    "tokenizer.fit_on_texts(sentence)\n",
    "#You need word index to make sense to train a NN\n",
    "word_index= tokenizer.word_index\n",
    "\n",
    "sequences= tokenizer.texts_to_sequences(sentence)\n"
   ]
  },
  {
   "cell_type": "code",
   "execution_count": 11,
   "metadata": {},
   "outputs": [
    {
     "name": "stdout",
     "output_type": "stream",
     "text": [
      "{'my': 1, 'love': 2, 'dog': 3, 'i': 4, 'you': 5, 'cat': 6, 'do': 7, 'think': 8, 'is': 9, 'amazing': 10} \n",
      "\n",
      "[[4, 2, 1, 3], [4, 2, 1, 6], [5, 2, 1, 3], [7, 5, 8, 1, 3, 9, 10]]\n"
     ]
    }
   ],
   "source": [
    "print(word_index, \"\\n\")\n",
    "print(sequences)"
   ]
  },
  {
   "cell_type": "code",
   "execution_count": 13,
   "metadata": {},
   "outputs": [
    {
     "name": "stdout",
     "output_type": "stream",
     "text": [
      "[[4, 2, 1, 3], [1, 3, 1]]\n"
     ]
    }
   ],
   "source": [
    "test_data= ['i really love my dog', 'my dog loves my manatee']\n",
    "\n",
    "test_seq= tokenizer.texts_to_sequences(test_data)\n",
    "\n",
    "# 'I really love my dog' it's encoded the same as 'I love my dog'\n",
    "# The second one: my dog my \n",
    "print(test_seq)"
   ]
  },
  {
   "cell_type": "markdown",
   "metadata": {},
   "source": [
    "## Using a different property of Tokenizer: 'OOV'"
   ]
  },
  {
   "cell_type": "code",
   "execution_count": 25,
   "metadata": {},
   "outputs": [
    {
     "name": "stdout",
     "output_type": "stream",
     "text": [
      "{'<OOV>': 1, 'my': 2, 'love': 3, 'dog': 4, 'i': 5, 'you': 6, 'cat': 7, 'do': 8, 'think': 9, 'is': 10, 'amazing': 11} \n",
      "\n",
      "[[5, 3, 2, 4], [5, 3, 2, 7], [6, 3, 2, 4], [8, 6, 9, 2, 4, 10, 11]] \n",
      "\n",
      "OOV: 1  [[5, 1, 3, 2, 4], [2, 4, 1, 2, 1]]\n"
     ]
    }
   ],
   "source": [
    "sentence= ['I love my dog', 'I love my cat', 'You love my dog!', 'Do you think my dog is amazing?']\n",
    "\n",
    "tokenizer= Tokenizer(num_words= 100, oov_token= \"<OOV>\") #OOV= outer vocabulary; to be used for words that aren't \n",
    "                                                         #in the word index\n",
    "tokenizer.fit_on_texts(sentence)\n",
    "word_index= tokenizer.word_index\n",
    "\n",
    "print(word_index, \"\\n\")\n",
    "\n",
    "sequences= tokenizer.texts_to_sequences(sentence)\n",
    "print(sequences, \"\\n\")\n",
    "\n",
    "test_data= ['i really love my dog', 'my dog loves my manatee']\n",
    "test_seq= tokenizer.texts_to_sequences(test_data)\n",
    "print(\"OOV: 1 \", test_seq)\n"
   ]
  },
  {
   "cell_type": "code",
   "execution_count": null,
   "metadata": {},
   "outputs": [],
   "source": []
  },
  {
   "cell_type": "code",
   "execution_count": null,
   "metadata": {},
   "outputs": [],
   "source": []
  }
 ],
 "metadata": {
  "kernelspec": {
   "display_name": "Python 3",
   "language": "python",
   "name": "python3"
  },
  "language_info": {
   "codemirror_mode": {
    "name": "ipython",
    "version": 3
   },
   "file_extension": ".py",
   "mimetype": "text/x-python",
   "name": "python",
   "nbconvert_exporter": "python",
   "pygments_lexer": "ipython3",
   "version": "3.6.4"
  }
 },
 "nbformat": 4,
 "nbformat_minor": 2
}
