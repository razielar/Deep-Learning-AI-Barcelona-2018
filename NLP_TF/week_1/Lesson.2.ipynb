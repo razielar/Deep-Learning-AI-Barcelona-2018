{
 "cells": [
  {
   "cell_type": "markdown",
   "metadata": {},
   "source": [
    "# Lesson 2\n",
    "## August 18th 2019"
   ]
  },
  {
   "cell_type": "code",
   "execution_count": 4,
   "metadata": {},
   "outputs": [
    {
     "name": "stdout",
     "output_type": "stream",
     "text": [
      "1.13.1\n"
     ]
    }
   ],
   "source": [
    "#Import modules:\n",
    "import tensorflow as tf \n",
    "from tensorflow import keras \n",
    "from tensorflow.keras.preprocessing.text import Tokenizer\n",
    "from tensorflow.keras.preprocessing.sequence import pad_sequences\n",
    "print(tf.__version__)"
   ]
  },
  {
   "cell_type": "code",
   "execution_count": 20,
   "metadata": {},
   "outputs": [
    {
     "name": "stdout",
     "output_type": "stream",
     "text": [
      "Word index: \n",
      " {'<OOV>': 1, 'my': 2, 'love': 3, 'dog': 4, 'i': 5, 'you': 6, 'cat': 7, 'do': 8, 'think': 9, 'is': 10, 'amazing': 11} \n",
      "\n",
      "Sequences: \n",
      " [[5, 3, 2, 4], [5, 3, 2, 7], [6, 3, 2, 4], [8, 6, 9, 2, 4, 10, 11]] \n",
      "\n",
      "Padded: \n",
      " [[ 0  0  0  0  5  3  2  4]\n",
      " [ 0  0  0  0  5  3  2  7]\n",
      " [ 0  0  0  0  6  3  2  4]\n",
      " [ 0  8  6  9  2  4 10 11]] \n",
      "\n",
      "Test sequence: \n",
      " [[5, 1, 3, 2, 4], [2, 4, 1, 2, 1]] \n",
      "\n",
      "Padded test sequence: \n",
      " [[0 0 0 0 0 5 1 3 2 4]\n",
      " [0 0 0 0 0 2 4 1 2 1]]\n"
     ]
    }
   ],
   "source": [
    "sentences= ['I love my dog', 'I love my cat', 'You love my dog!', 'Do you think my dog is amazing?']\n",
    "\n",
    "tokenizer= Tokenizer(num_words=100, oov_token= \"<OOV>\")\n",
    "tokenizer.fit_on_texts(sentences)\n",
    "word_index= tokenizer.word_index\n",
    "\n",
    "sequences= tokenizer.texts_to_sequences(sentences)\n",
    "padd= pad_sequences(sequences= sequences, maxlen= 8)\n",
    "\n",
    "print(\"Word index: \\n\", word_index, \"\\n\")\n",
    "print(\"Sequences: \\n\", sequences, \"\\n\")\n",
    "print(\"Padded: \\n\", padd, \"\\n\")\n",
    "\n",
    "### Try with words that the tokenizer wan't fit to\n",
    "test_data= ['i really love my dog', 'my dog loves my manatee']\n",
    "test_seq= tokenizer.texts_to_sequences(test_data)\n",
    "padded= pad_sequences(test_seq, maxlen= 10)\n",
    "\n",
    "print(\"Test sequence: \\n\", test_seq, \"\\n\")\n",
    "print(\"Padded test sequence: \\n\",padded)\n"
   ]
  },
  {
   "cell_type": "code",
   "execution_count": null,
   "metadata": {},
   "outputs": [],
   "source": []
  },
  {
   "cell_type": "code",
   "execution_count": null,
   "metadata": {},
   "outputs": [],
   "source": []
  },
  {
   "cell_type": "code",
   "execution_count": null,
   "metadata": {},
   "outputs": [],
   "source": []
  },
  {
   "cell_type": "code",
   "execution_count": null,
   "metadata": {},
   "outputs": [],
   "source": []
  }
 ],
 "metadata": {
  "kernelspec": {
   "display_name": "Python 3",
   "language": "python",
   "name": "python3"
  },
  "language_info": {
   "codemirror_mode": {
    "name": "ipython",
    "version": 3
   },
   "file_extension": ".py",
   "mimetype": "text/x-python",
   "name": "python",
   "nbconvert_exporter": "python",
   "pygments_lexer": "ipython3",
   "version": "3.6.4"
  }
 },
 "nbformat": 4,
 "nbformat_minor": 2
}
