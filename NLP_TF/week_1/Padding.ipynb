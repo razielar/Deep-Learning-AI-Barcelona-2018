{
 "cells": [
  {
   "cell_type": "markdown",
   "metadata": {},
   "source": [
    "# Padding \n",
    "## August 18th 2019"
   ]
  },
  {
   "cell_type": "code",
   "execution_count": 5,
   "metadata": {},
   "outputs": [
    {
     "name": "stdout",
     "output_type": "stream",
     "text": [
      "1.13.1\n"
     ]
    }
   ],
   "source": [
    "import tensorflow as tf \n",
    "from tensorflow import keras\n",
    "print(tf.__version__)\n",
    "from tensorflow.keras.preprocessing.text import Tokenizer\n",
    "from tensorflow.keras.preprocessing.sequence import pad_sequences"
   ]
  },
  {
   "cell_type": "code",
   "execution_count": 21,
   "metadata": {},
   "outputs": [
    {
     "name": "stdout",
     "output_type": "stream",
     "text": [
      "Word index: \n",
      " {'<OOV>': 1, 'my': 2, 'love': 3, 'dog': 4, 'i': 5, 'you': 6, 'cat': 7, 'do': 8, 'think': 9, 'is': 10, 'amazing': 11} \n",
      "\n",
      "Sequences: \n",
      " [[5, 3, 2, 4], [5, 3, 2, 7], [6, 3, 2, 4], [8, 6, 9, 2, 4, 10, 11]] \n",
      "\n",
      "Padded sequences: \n",
      " [[ 0  0  0  5  3  2  4]\n",
      " [ 0  0  0  5  3  2  7]\n",
      " [ 0  0  0  6  3  2  4]\n",
      " [ 8  6  9  2  4 10 11]] \n",
      "\n",
      "Different way of padding: \n",
      " [[5 3 2 4 0]\n",
      " [5 3 2 7 0]\n",
      " [6 3 2 4 0]\n",
      " [8 6 9 2 4]]\n"
     ]
    }
   ],
   "source": [
    "sentence= ['I love my dog', 'I love my cat', 'You love my dog!', 'Do you think my dog is amazing?']\n",
    "\n",
    "tokenizer= Tokenizer(num_words=100, oov_token= \"<OOV>\")\n",
    "tokenizer.fit_on_texts(sentence)\n",
    "word_index= tokenizer.word_index\n",
    "print(\"Word index: \\n\",word_index, \"\\n\")\n",
    "\n",
    "sequences= tokenizer.texts_to_sequences(sentence)\n",
    "print(\"Sequences: \\n\",sequences, \"\\n\")\n",
    "\n",
    "#Padding: \n",
    "padded= pad_sequences(sequences= sequences, padding= 'pre')\n",
    "print(\"Padded sequences: \\n\", padded, \"\\n\")\n",
    "\n",
    "padded= pad_sequences(sequences= sequences, padding= 'post', truncating= 'post', maxlen=5)\n",
    "print(\"Different way of padding: \\n\",padded)\n"
   ]
  },
  {
   "cell_type": "code",
   "execution_count": null,
   "metadata": {},
   "outputs": [],
   "source": []
  },
  {
   "cell_type": "code",
   "execution_count": null,
   "metadata": {},
   "outputs": [],
   "source": []
  }
 ],
 "metadata": {
  "kernelspec": {
   "display_name": "Python 3",
   "language": "python",
   "name": "python3"
  },
  "language_info": {
   "codemirror_mode": {
    "name": "ipython",
    "version": 3
   },
   "file_extension": ".py",
   "mimetype": "text/x-python",
   "name": "python",
   "nbconvert_exporter": "python",
   "pygments_lexer": "ipython3",
   "version": "3.6.4"
  }
 },
 "nbformat": 4,
 "nbformat_minor": 2
}
