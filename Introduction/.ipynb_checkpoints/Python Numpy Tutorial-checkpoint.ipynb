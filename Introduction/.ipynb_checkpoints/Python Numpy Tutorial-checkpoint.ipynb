{
 "cells": [
  {
   "cell_type": "markdown",
   "metadata": {},
   "source": [
    "# Python Numpy Tutorial\n",
    "## April 23th 2018"
   ]
  },
  {
   "cell_type": "markdown",
   "metadata": {},
   "source": [
    "[The information was obtained from this link](http://cs231n.github.io/python-numpy-tutorial/) "
   ]
  },
  {
   "cell_type": "markdown",
   "metadata": {},
   "source": [
    "[Cheat Sheet NumPy Basics](https://s3.amazonaws.com/assets.datacamp.com/blog_assets/Numpy_Python_Cheat_Sheet.pdf)"
   ]
  },
  {
   "cell_type": "markdown",
   "metadata": {},
   "source": [
    "[NumPy reference](https://docs.scipy.org/doc/numpy/reference/)"
   ]
  },
  {
   "cell_type": "code",
   "execution_count": 1,
   "metadata": {},
   "outputs": [
    {
     "name": "stdout",
     "output_type": "stream",
     "text": [
      "Python 3.6.4 :: Anaconda, Inc.\n",
      "/Users/raziel/Jupyter/Deep Learning AI-Bcn/Deep-Learning-AI-Barcelona-2018/Introduction\n"
     ]
    }
   ],
   "source": [
    "!python --version\n",
    "!pwd"
   ]
  },
  {
   "cell_type": "markdown",
   "metadata": {},
   "source": [
    "## Modules:"
   ]
  },
  {
   "cell_type": "code",
   "execution_count": 37,
   "metadata": {},
   "outputs": [],
   "source": [
    "import numpy as np\n",
    "import math\n",
    "import time"
   ]
  },
  {
   "cell_type": "markdown",
   "metadata": {},
   "source": [
    "# Content: "
   ]
  },
  {
   "cell_type": "markdown",
   "metadata": {},
   "source": [
    "1. [Introduction](#introduction)\n",
    "2. [Python Basics](#python_basics)\n",
    "    * 2.1) [Lists](#lists)\n",
    "    * 2.2) [Sets](#sets)\n",
    "    * 2.3) [Tuples](#tuples)\n",
    "3. [NumPy](#numpy)\n",
    "    * 3.1) [Arrays](#arrays)\n",
    "    * 3.2) [Example of vectorization](#example_of_vectorization)\n",
    "4. [References](#references)"
   ]
  },
  {
   "cell_type": "markdown",
   "metadata": {},
   "source": [
    "<a id='introduction'></a>\n",
    "# 1) Introduction"
   ]
  },
  {
   "cell_type": "code",
   "execution_count": 5,
   "metadata": {},
   "outputs": [
    {
     "name": "stdout",
     "output_type": "stream",
     "text": [
      "4\n",
      "<class 'int'>\n"
     ]
    }
   ],
   "source": [
    "x=3\n",
    "x +=1 \n",
    "print(x)\n",
    "print(type(x))"
   ]
  },
  {
   "cell_type": "markdown",
   "metadata": {},
   "source": [
    "Example of **Range**:"
   ]
  },
  {
   "cell_type": "code",
   "execution_count": 1,
   "metadata": {},
   "outputs": [
    {
     "name": "stdout",
     "output_type": "stream",
     "text": [
      "0\n",
      "1\n",
      "2\n",
      "3\n",
      "4\n",
      "\n",
      "\n",
      "3\n",
      "4\n"
     ]
    }
   ],
   "source": [
    "#Example of range\n",
    "for i in range(5):\n",
    "    print(i)\n",
    "print('\\n')\n",
    "for i in range(3,5):\n",
    "    print(i)"
   ]
  },
  {
   "cell_type": "markdown",
   "metadata": {},
   "source": [
    "<a id='python_basics'></a>\n",
    "# 2) Python Basics"
   ]
  },
  {
   "cell_type": "markdown",
   "metadata": {},
   "source": [
    "<a id='lists'></a>\n",
    "## 2.1) Lists: \n",
    "A list is the Python equivalent of an array, but it's **resizeable** and **can contain elements of different types**. Their elements can be refered by position. "
   ]
  },
  {
   "cell_type": "code",
   "execution_count": 78,
   "metadata": {},
   "outputs": [
    {
     "name": "stdout",
     "output_type": "stream",
     "text": [
      "[3, 1, 2] \t 2\n",
      "[3, 1, 2, 'bar']\n",
      "bar \t [3, 1, 2]\n"
     ]
    }
   ],
   "source": [
    "xs = [3,1,2]\n",
    "print(xs,\"\\t\", xs[2])\n",
    "#Add a new element to the end of the list:\n",
    "xs.append('bar')\n",
    "print(xs)\n",
    "x=xs.pop() #Remove and return the lst element of the list\n",
    "print(x,\"\\t\", xs)"
   ]
  },
  {
   "cell_type": "code",
   "execution_count": 19,
   "metadata": {},
   "outputs": [
    {
     "name": "stdout",
     "output_type": "stream",
     "text": [
      "<class 'list'>\n",
      "cat\n",
      "dog\n",
      "monkey\n"
     ]
    }
   ],
   "source": [
    "animal=['cat', 'dog', 'monkey']\n",
    "print(type(animal))\n",
    "for i in animal:\n",
    "    print(i)"
   ]
  },
  {
   "cell_type": "markdown",
   "metadata": {},
   "source": [
    "More sophisticated for loop"
   ]
  },
  {
   "cell_type": "code",
   "execution_count": 20,
   "metadata": {},
   "outputs": [
    {
     "name": "stdout",
     "output_type": "stream",
     "text": [
      "#1: cat\n",
      "#2: dogs\n",
      "#3: monkey\n"
     ]
    }
   ],
   "source": [
    "animals=['cat', 'dogs', 'monkey']\n",
    "for id, i in enumerate(animals):\n",
    "    print('#%d: %s' % (id +1, i))"
   ]
  },
  {
   "cell_type": "markdown",
   "metadata": {},
   "source": [
    "### 2.1.1) List comprehensions:"
   ]
  },
  {
   "cell_type": "code",
   "execution_count": 24,
   "metadata": {},
   "outputs": [
    {
     "name": "stdout",
     "output_type": "stream",
     "text": [
      "[0, 1, 4, 9, 16]\n",
      "[0, 1, 4, 9, 16]\n",
      "[0, 4, 16]\n"
     ]
    }
   ],
   "source": [
    "nums=[0, 1, 2, 3, 4]\n",
    "squares=[]\n",
    "for i in nums:\n",
    "    squares.append(i **2)\n",
    "print(squares)\n",
    "\n",
    "### You can do this code simpler using list comprehension:\n",
    "\n",
    "nums=[0, 1, 2, 3, 4]\n",
    "squares=[i ** 2 for i in nums]\n",
    "print(squares)\n",
    "\n",
    "### List comprehensions with conditions\n",
    "nums=[0, 1, 2, 3, 4]\n",
    "even_squares=[i ** 2 for i in nums if i % 2 == 0]\n",
    "print(even_squares)\n",
    "    "
   ]
  },
  {
   "cell_type": "markdown",
   "metadata": {},
   "source": [
    "<a id='sets'></a>\n",
    "## 2.2) Sets"
   ]
  },
  {
   "cell_type": "markdown",
   "metadata": {},
   "source": [
    "Sets are an **unordered collection** of distinct items that **don't contain duplicates**. Can be created by using name_of_the_set={}"
   ]
  },
  {
   "cell_type": "code",
   "execution_count": 57,
   "metadata": {},
   "outputs": [
    {
     "name": "stdout",
     "output_type": "stream",
     "text": [
      "{'cat', 'dog', 'fish'}\n"
     ]
    }
   ],
   "source": [
    "animals={'cat','dog', 'cat', 'cat'}\n",
    "animals.add('fish')\n",
    "print(animals)"
   ]
  },
  {
   "cell_type": "code",
   "execution_count": 48,
   "metadata": {},
   "outputs": [
    {
     "name": "stdout",
     "output_type": "stream",
     "text": [
      "#1: cat\n",
      "#2: dog\n",
      "#3: fish\n",
      "{0, 1, 2, 3, 4, 5}\n"
     ]
    }
   ],
   "source": [
    "#Iterating over a set has the same syntax as iterating over a list. However since sets are unordered, \n",
    "#you cannot make assumptions about the order in which you visit the elements\n",
    "\n",
    "animals={'cat', 'dog', 'fish'}\n",
    "for id, i in enumerate(animals):\n",
    "    print('#%d: %s' % (id+1, i))\n",
    "\n",
    "nums={int(sqrt(i)) for i in range(30)}\n",
    "print(nums)"
   ]
  },
  {
   "cell_type": "markdown",
   "metadata": {},
   "source": [
    "<a id='tuples'></a>\n",
    "## 2.3) Tuples\n",
    "A tuple is an **immutable** ordered list of values. A tuple is in many ways similar to a list; one of the most important differences is that *tuples* **can be used as keys in dictionaries** and as **elements of sets** while list cannot. "
   ]
  },
  {
   "cell_type": "code",
   "execution_count": 86,
   "metadata": {},
   "outputs": [
    {
     "name": "stdout",
     "output_type": "stream",
     "text": [
      "<class 'tuple'> \t (5, 6)\n",
      "{(0, 1): 0, (1, 2): 1, (2, 3): 2, (3, 4): 3, (4, 5): 4, (5, 6): 5, (6, 7): 6, (7, 8): 7, (8, 9): 8, (9, 10): 9}\n",
      "5\n",
      "1\n",
      "2\n"
     ]
    }
   ],
   "source": [
    "t=(5,6)\n",
    "print(type(t), \"\\t\", t)\n",
    "### Create a dictionary with tuple keys:\n",
    "dictionary={(i, i+1): i for i in range(10)}\n",
    "print(dictionary)\n",
    "## Using tuples as keys in dictionaries:\n",
    "print(dictionary[t])\n",
    "print(dictionary[(1,2)])\n",
    "print(dictionary[(2,3)])"
   ]
  },
  {
   "cell_type": "markdown",
   "metadata": {},
   "source": [
    "<a id='numpy'></a>\n",
    "# 3) Numpy"
   ]
  },
  {
   "cell_type": "markdown",
   "metadata": {},
   "source": [
    "<a id='arrays'></a>\n",
    "## 3.1) Arrays\n",
    "A numpy array is a grid of values, **all of the same type**, and is indexed by a *tuple*. The number of dimensions is the rank  of the array; *the shape* of an array is *a tuple of integers* giving the size of the array along each dimension."
   ]
  },
  {
   "cell_type": "code",
   "execution_count": 8,
   "metadata": {},
   "outputs": [
    {
     "name": "stdout",
     "output_type": "stream",
     "text": [
      "[1 2 3]\n",
      "<class 'numpy.ndarray'>\n",
      "(3,) \n",
      "\n",
      "[[1 2 3]\n",
      " [4 5 6]] \n",
      "\n",
      "(2, 3) \t int64 \n",
      "\n",
      "5\n"
     ]
    }
   ],
   "source": [
    "#Create a rank 1 array\n",
    "a = np.array([1, 2, 3]) \n",
    "print(a)\n",
    "print(type(a))\n",
    "print(a.shape, \"\\n\")\n",
    "\n",
    "#Create a rank 2 array\n",
    "b = np.array([[1,2,3], [4,5,6]])\n",
    "print(b , \"\\n\")\n",
    "print(b.shape, \"\\t\", b.dtype, \"\\n\")\n",
    "print(b[1,1])"
   ]
  },
  {
   "cell_type": "markdown",
   "metadata": {},
   "source": [
    "Numpy also provides many functions to create arrays"
   ]
  },
  {
   "cell_type": "code",
   "execution_count": 100,
   "metadata": {},
   "outputs": [
    {
     "name": "stdout",
     "output_type": "stream",
     "text": [
      "np.zeros: \n",
      " [[0. 0.]\n",
      " [0. 0.]\n",
      " [0. 0.]] \n",
      "\n",
      "np.ones: \n",
      " [[1. 1. 1.]\n",
      " [1. 1. 1.]] \n",
      "\n",
      "[[10 10 10]\n",
      " [10 10 10]\n",
      " [10 10 10]] \n",
      "\n",
      "[[1. 0. 0.]\n",
      " [0. 1. 0.]\n",
      " [0. 0. 1.]] \n",
      "\n",
      "[[4.17022005e-01 7.20324493e-01 1.14374817e-04]\n",
      " [3.02332573e-01 1.46755891e-01 9.23385948e-02]\n",
      " [1.86260211e-01 3.45560727e-01 3.96767474e-01]] \n",
      "\n",
      "[0.53881673 0.41919451 0.6852195 ] \n",
      "\n"
     ]
    }
   ],
   "source": [
    "a =np.zeros((3,2))\n",
    "print(\"np.zeros:\",\"\\n\", a, \"\\n\")\n",
    "\n",
    "b=np.ones((2,3))\n",
    "print(\"np.ones:\", \"\\n\",b, \"\\n\")\n",
    "\n",
    "c=np.full((3,3), 10)\n",
    "print(c, \"\\n\")\n",
    "\n",
    "#Create a 3X3 identity matrix\n",
    "d=np.eye(3)\n",
    "print(d, \"\\n\")\n",
    "\n",
    "#Seed for reproducibility\n",
    "np.random.seed(1)\n",
    "\n",
    "e=np.random.random((3,3))\n",
    "print(e, \"\\n\")\n",
    "\n",
    "f=np.random.rand(3)\n",
    "print(f, \"\\n\")"
   ]
  },
  {
   "cell_type": "markdown",
   "metadata": {},
   "source": [
    "### 3.1.1) Array indexing"
   ]
  },
  {
   "cell_type": "code",
   "execution_count": 101,
   "metadata": {},
   "outputs": [
    {
     "name": "stdout",
     "output_type": "stream",
     "text": [
      "[[ 1  2  3  4]\n",
      " [ 5  6  7  8]\n",
      " [ 9 10 11 12]]\n",
      "(3, 4) \n",
      "\n",
      "[[2 3]\n",
      " [6 7]]\n",
      "2\n",
      "[ 1 77  3  4]\n"
     ]
    }
   ],
   "source": [
    "a = np.array([[1,2,3,4], [5,6,7,8], [9,10,11,12]])\n",
    "print(a)\n",
    "print(a.shape, \"\\n\")\n",
    "b=a[:2,1:3]\n",
    "print(b)\n",
    "print(a[0,1])\n",
    "a[0,1]=77\n",
    "print(a[0,:])"
   ]
  },
  {
   "cell_type": "markdown",
   "metadata": {},
   "source": [
    "You can also mix integer indexing with slice indexing. However doing so will yield an array of lower rank than the original. "
   ]
  },
  {
   "cell_type": "code",
   "execution_count": 110,
   "metadata": {},
   "outputs": [
    {
     "name": "stdout",
     "output_type": "stream",
     "text": [
      "[[ 1  2  3  4]\n",
      " [ 5  6  7  8]\n",
      " [ 9 10 11 12]]\n",
      "Slicing by row:\n",
      "[5 6 7 8] (4,)\n",
      "[[5 6 7 8]] (1, 4)\n",
      "Slicing by column:\n",
      "[ 2  6 10] (3,)\n",
      "[[ 2]\n",
      " [ 6]\n",
      " [10]] (3, 1)\n"
     ]
    }
   ],
   "source": [
    "a = np.array([[1,2,3,4], [5,6,7,8], [9,10,11,12]])\n",
    "print(a)\n",
    "\n",
    "#Slicing by row:\n",
    "print(\"Slicing by row:\")\n",
    "\n",
    "row_r1=a[1, :] #Rank 1\n",
    "print(row_r1, row_r1.shape)\n",
    "\n",
    "row_r2=a[1:2, :] #Rank 2\n",
    "print(row_r2, row_r2.shape)\n",
    "\n",
    "#Slicing by column:\n",
    "\n",
    "print(\"Slicing by column:\")\n",
    "\n",
    "col_r1=a[:,1]\n",
    "print(col_r1, col_r1.shape)\n",
    "col_r2=a[:,1:2]\n",
    "print(col_r2, col_r2.shape)\n"
   ]
  },
  {
   "cell_type": "markdown",
   "metadata": {},
   "source": [
    "Integer array indexing:"
   ]
  },
  {
   "cell_type": "code",
   "execution_count": 125,
   "metadata": {},
   "outputs": [
    {
     "name": "stdout",
     "output_type": "stream",
     "text": [
      "[[ 1  2  3  4]\n",
      " [ 5  6  7  8]\n",
      " [ 9 10 11 12]] (3, 4) int64\n",
      "------\n",
      "[[ 9 10 11 12]\n",
      " [ 5  6  7  8]]\n",
      "------\n",
      "[[ 1  2  3  4]\n",
      " [15 16 17 18]\n",
      " [19 20 21 22]]\n"
     ]
    }
   ],
   "source": [
    "a = np.array([[1,2,3,4], [5,6,7,8], [9,10,11,12]])\n",
    "print(a, a.shape, a.dtype)\n",
    "print(\"------\")\n",
    "\n",
    "#Create an array of indices:\n",
    "b = np.array([2,1])\n",
    "print(a[b,:])\n",
    "print(\"------\")\n",
    "\n",
    "#Mutate the elements using the indices of 'b'\n",
    "a[b,:] += 10\n",
    "print(a)\n"
   ]
  },
  {
   "cell_type": "markdown",
   "metadata": {},
   "source": [
    "Boolean array indexing. Frequently this type of indexing is used to select the elements of an array that *satisfy some conditions*"
   ]
  },
  {
   "cell_type": "code",
   "execution_count": 131,
   "metadata": {},
   "outputs": [
    {
     "name": "stdout",
     "output_type": "stream",
     "text": [
      "[[1 2]\n",
      " [3 4]\n",
      " [5 6]]\n",
      "[[False False]\n",
      " [ True  True]\n",
      " [ True  True]]\n",
      "------\n",
      "[3 4 5 6]\n",
      "[3 4 5 6]\n"
     ]
    }
   ],
   "source": [
    "a = np.array([[1,2], [3,4], [5,6]])\n",
    "print(a)\n",
    "\n",
    "#Select the ones that are higher than 2 \n",
    "\n",
    "boolean_index = (a > 2)\n",
    "print(boolean_index)\n",
    "print(\"------\")\n",
    "\n",
    "#When using a boolean array index we obtain a rank 1 array consisting the elements of the True values\n",
    "print(a[boolean_index])\n",
    "\n",
    "#Doing this in one step:\n",
    "print(a[a > 2])\n"
   ]
  },
  {
   "cell_type": "markdown",
   "metadata": {},
   "source": [
    "Datatypes:"
   ]
  },
  {
   "cell_type": "code",
   "execution_count": 136,
   "metadata": {},
   "outputs": [
    {
     "name": "stdout",
     "output_type": "stream",
     "text": [
      "int64\n",
      "float64\n",
      "[1. 2.] float64\n"
     ]
    }
   ],
   "source": [
    "x = np.array([1,2])\n",
    "print(x.dtype)\n",
    "y=np.array([1.0,2])\n",
    "print(y.dtype)\n",
    "\n",
    "#Create a new array specifying the data-type:\n",
    "y = np.array([1,2], dtype= np.float64)\n",
    "print(y, y.dtype)"
   ]
  },
  {
   "cell_type": "markdown",
   "metadata": {},
   "source": [
    "### 3.1.2) Array math"
   ]
  },
  {
   "cell_type": "code",
   "execution_count": 74,
   "metadata": {},
   "outputs": [
    {
     "name": "stdout",
     "output_type": "stream",
     "text": [
      "x: \n",
      " [[1. 2.]\n",
      " [3. 4.]] \n",
      " Shape of x: (2, 2) \n",
      "\n",
      "y: \n",
      " [[5. 6.]\n",
      " [7. 8.]] \n",
      " Shape of y: (2, 2) \n",
      "\n",
      "\n",
      " Sum:[[ 6.  8.]\n",
      " [10. 12.]] \n",
      "\n",
      " Sum NumPy:[[ 6.  8.]\n",
      " [10. 12.]] \n",
      "\n",
      "Difference:[[-4. -4.]\n",
      " [-4. -4.]] \n",
      "\n",
      " Difference NumPy:[[-4. -4.]\n",
      " [-4. -4.]] \n",
      "\n",
      "Multiply:[[ 5. 12.]\n",
      " [21. 32.]] \n",
      "\n",
      " Multiply NumPy:[[ 5. 12.]\n",
      " [21. 32.]] \n",
      "\n",
      "Divide:[[0.2        0.33333333]\n",
      " [0.42857143 0.5       ]] \n",
      "\n",
      " Divide NumPy:[[0.2        0.33333333]\n",
      " [0.42857143 0.5       ]] \n",
      "\n",
      "Square root NumPy:[[1.         1.41421356]\n",
      " [1.73205081 2.        ]]\n"
     ]
    }
   ],
   "source": [
    "x = np.array([[1,2], [3,4]], dtype=np.float64)\n",
    "y=np.array([[5,6], [7,8]], dtype= np.float64)\n",
    "\n",
    "print(\"x:\",\"\\n\", x,\"\\n\", \"Shape of x: \" + str(x.shape), \"\\n\")\n",
    "\n",
    "print(\"y:\",\"\\n\", y,\"\\n\", \"Shape of y: \" + str(y.shape), \"\\n\")\n",
    "\n",
    "#1) Elementwise sum:\n",
    "\n",
    "print(\"\\n\", \"Sum:\"+ str(x+y), \"\\n\\n\", \"Sum NumPy:\" + str(np.add(x,y)), \"\\n\")\n",
    "\n",
    "#2) Elementwise difference:\n",
    "\n",
    "print(\"Difference:\" + str(x-y), \"\\n\\n\", \"Difference NumPy:\" + str(np.subtract(x,y)), \"\\n\")\n",
    "\n",
    "#3) Elementwise product:\n",
    "\n",
    "print(\"Multiply:\"+ str(x*y), \"\\n\\n\", \"Multiply NumPy:\" + str(np.multiply(x,y)), \"\\n\")\n",
    "\n",
    "#4) Elementwise division:\n",
    "\n",
    "print(\"Divide:\"+ str(x/y),\"\\n\\n\", \"Divide NumPy:\" + str(np.divide(x,y)), \"\\n\")\n",
    "\n",
    "#5) Elementwise square root:\n",
    "\n",
    "print(\"Square root NumPy:\"+ str(np.sqrt(x)))\n"
   ]
  },
  {
   "cell_type": "markdown",
   "metadata": {},
   "source": [
    "More mathematical operations:"
   ]
  },
  {
   "cell_type": "code",
   "execution_count": 185,
   "metadata": {},
   "outputs": [
    {
     "name": "stdout",
     "output_type": "stream",
     "text": [
      "219\n",
      "219\n",
      "219 \n",
      "\n",
      "[29 67] \n",
      "\n",
      "[[19 22]\n",
      " [43 50]] \n",
      "\n",
      "x:[[1 2]\n",
      " [3 4]] \n",
      "\n",
      "Sum of all x:10 \n",
      "\n",
      "Col-sum:[4 6] \n",
      "\n",
      "Row-sum:[3 7] \n",
      "\n",
      "[[1. 2.]\n",
      " [4. 5.]] \n",
      "\n",
      "Transpose:[[1. 4.]\n",
      " [2. 5.]]\n"
     ]
    }
   ],
   "source": [
    "x = np.array([[1,2], [3,4]]); y = np.array([[5,6], [7,8]])\n",
    "v=np.array([9,10]); w=np.array([11,12])\n",
    "\n",
    "### Inner product of vectors\n",
    "print(v.dot(w))\n",
    "print(np.dot(v,w))\n",
    "print(9*11+10*12, \"\\n\")\n",
    "\n",
    "### Matrix*vector product; rank 1 array\n",
    "print(np.dot(x,v), \"\\n\")\n",
    "\n",
    "### Matrix*Matrix; rank 2 array:\n",
    "print(np.dot(x,y), \"\\n\")\n",
    "\n",
    "###### Sum function\n",
    "\n",
    "print(\"x:\"+ str(x), \"\\n\")\n",
    "\n",
    "print(\"Sum of all x:\" + str(np.sum(x)), \"\\n\")\n",
    "\n",
    "print(\"Col-sum:\"+ str(np.sum(x, axis=0)), \"\\n\")\n",
    "print(\"Row-sum:\"+ str(np.sum(x, axis=1)), \"\\n\")\n",
    "\n",
    "\n",
    "################ Transpose: \n",
    "\n",
    "x = np.array([[1,2], [4,5]], dtype=np.float64)\n",
    "\n",
    "print(x, \"\\n\")\n",
    "print(\"Transpose:\"+ str(x.T))"
   ]
  },
  {
   "cell_type": "markdown",
   "metadata": {},
   "source": [
    "[Examples of more mathematical functions](https://docs.scipy.org/doc/numpy/reference/routines.math.html)"
   ]
  },
  {
   "cell_type": "markdown",
   "metadata": {},
   "source": [
    "<a id='example_of_vectorization'></a>\n",
    "## 3.2) Example of vectorization\n",
    "### 3.2.1) Example 1\n",
    "Always try to avoid **for loops**"
   ]
  },
  {
   "cell_type": "code",
   "execution_count": 63,
   "metadata": {},
   "outputs": [
    {
     "name": "stdout",
     "output_type": "stream",
     "text": [
      "250116.5607370524\n",
      "Vectorized version:119.82083320617676ms\n",
      "250116.5607370565\n",
      "Non-vectorized version:620.7292079925537ms\n"
     ]
    }
   ],
   "source": [
    "#Input data:\n",
    "\n",
    "#Seed for reproducibility:\n",
    "np.random.seed(0)\n",
    "\n",
    "a=np.random.rand(1000000)\n",
    "b=np.random.rand(1000000)\n",
    "\n",
    "### 1) Vectorized version:\n",
    "\n",
    "tic=time.time()\n",
    "c=np.dot(a,b)\n",
    "toc=time.time()\n",
    "\n",
    "print(c)\n",
    "print(\"Vectorized version:\" + str(1000*(toc-tic))+\"ms\") # ms:miliseconds\n",
    "#The code it took 1.15 ms to obtain the result\n",
    "\n",
    "### 2) Non-vectorized version:\n",
    "\n",
    "c=0\n",
    "tic=time.time()\n",
    "for i in range(1000000):\n",
    "    c += a[i]*b[i]\n",
    "toc=time.time()\n",
    "\n",
    "print(c)\n",
    "print(\"Non-vectorized version:\" + str(1000*(toc-tic)) + \"ms\"  )\n"
   ]
  },
  {
   "cell_type": "markdown",
   "metadata": {},
   "source": [
    "### 3.2.2) Example 2\n",
    "Another example of using vectorization:"
   ]
  },
  {
   "cell_type": "code",
   "execution_count": 62,
   "metadata": {},
   "outputs": [
    {
     "name": "stdout",
     "output_type": "stream",
     "text": [
      "Vector v: \n",
      " [[ 1]\n",
      " [ 2]\n",
      " [ 3]\n",
      " [ 4]\n",
      " [ 5]\n",
      " [ 6]\n",
      " [ 7]\n",
      " [ 8]\n",
      " [ 9]\n",
      " [10]\n",
      " [11]\n",
      " [12]\n",
      " [13]\n",
      " [14]\n",
      " [15]\n",
      " [16]\n",
      " [17]\n",
      " [18]\n",
      " [19]\n",
      " [20]] \n",
      " Shape of vector 'v': (20, 1) \n",
      "\n",
      "[[0.]\n",
      " [0.]\n",
      " [0.]\n",
      " [0.]\n",
      " [0.]\n",
      " [0.]\n",
      " [0.]\n",
      " [0.]\n",
      " [0.]\n",
      " [0.]\n",
      " [0.]\n",
      " [0.]\n",
      " [0.]\n",
      " [0.]\n",
      " [0.]\n",
      " [0.]\n",
      " [0.]\n",
      " [0.]\n",
      " [0.]\n",
      " [0.]] \n",
      " Shape of the result vector 'n': (20, 1) \n",
      "\n",
      "[[2.71828183e+00]\n",
      " [7.38905610e+00]\n",
      " [2.00855369e+01]\n",
      " [5.45981500e+01]\n",
      " [1.48413159e+02]\n",
      " [4.03428793e+02]\n",
      " [1.09663316e+03]\n",
      " [2.98095799e+03]\n",
      " [8.10308393e+03]\n",
      " [2.20264658e+04]\n",
      " [5.98741417e+04]\n",
      " [1.62754791e+05]\n",
      " [4.42413392e+05]\n",
      " [1.20260428e+06]\n",
      " [3.26901737e+06]\n",
      " [8.88611052e+06]\n",
      " [2.41549528e+07]\n",
      " [6.56599691e+07]\n",
      " [1.78482301e+08]\n",
      " [4.85165195e+08]] \n",
      "\n",
      "Non-vectorized version: 0.13518333435058594 ms \n",
      "\n",
      "[[2.71828183e+00]\n",
      " [7.38905610e+00]\n",
      " [2.00855369e+01]\n",
      " [5.45981500e+01]\n",
      " [1.48413159e+02]\n",
      " [4.03428793e+02]\n",
      " [1.09663316e+03]\n",
      " [2.98095799e+03]\n",
      " [8.10308393e+03]\n",
      " [2.20264658e+04]\n",
      " [5.98741417e+04]\n",
      " [1.62754791e+05]\n",
      " [4.42413392e+05]\n",
      " [1.20260428e+06]\n",
      " [3.26901737e+06]\n",
      " [8.88611052e+06]\n",
      " [2.41549528e+07]\n",
      " [6.56599691e+07]\n",
      " [1.78482301e+08]\n",
      " [4.85165195e+08]] \n",
      "\n",
      "Vectorized version: 0.08797645568847656 ms\n"
     ]
    }
   ],
   "source": [
    "####### Imagine that you want to calculate the e^x of certain numbers\n",
    "\n",
    "### 1) Non-vectorized version:\n",
    "\n",
    "### First you need to create a set of vector of the desired numbers: \n",
    "\n",
    "v= np.array([1,2,3,4,5,6,7,8,9,10,11,12,13,14,15,16,17,18,19,20])[np.newaxis]\n",
    "#Transpose:\n",
    "v=v.T\n",
    "print(\"Vector v:\",\"\\n\",  v, \"\\n\", \"Shape of vector 'v': \"+ str(v.shape), \"\\n\")\n",
    "\n",
    "#Then create the vector that will contain the results\n",
    "\n",
    "n= np.zeros((20,1))\n",
    "print(n, \"\\n\", \"Shape of the result vector 'n': \"+ str(n.shape), \"\\n\")\n",
    "\n",
    "tic=time.time()\n",
    "for i in range(20):\n",
    "    n[i]=math.exp(v[i])\n",
    "toc=time.time()\n",
    "\n",
    "print(n, \"\\n\")\n",
    "print(\"Non-vectorized version: \" + str(1000*(toc-tic))+\" ms\", \"\\n\") # ms:miliseconds\n",
    "\n",
    "\n",
    "### 2) Vectorized version: \n",
    "\n",
    "tic=time.time()\n",
    "n=np.exp(v)\n",
    "toc=time.time()\n",
    "\n",
    "print(n, \"\\n\")\n",
    "print(\"Vectorized version: \" + str(1000*(toc-tic))+\" ms\") # ms:miliseconds\n"
   ]
  },
  {
   "cell_type": "markdown",
   "metadata": {},
   "source": [
    "<a id='references'></a>\n",
    "# 4) References: "
   ]
  },
  {
   "cell_type": "markdown",
   "metadata": {},
   "source": [
    "[Link to create a table of contents with internal links in IPython Notebooks and Markdown documents](http://sebastianraschka.com/Articles/2014_ipython_internal_links.html#top)"
   ]
  },
  {
   "cell_type": "code",
   "execution_count": null,
   "metadata": {},
   "outputs": [],
   "source": []
  }
 ],
 "metadata": {
  "kernelspec": {
   "display_name": "Python 3",
   "language": "python",
   "name": "python3"
  },
  "language_info": {
   "codemirror_mode": {
    "name": "ipython",
    "version": 3
   },
   "file_extension": ".py",
   "mimetype": "text/x-python",
   "name": "python",
   "nbconvert_exporter": "python",
   "pygments_lexer": "ipython3",
   "version": "3.6.4"
  }
 },
 "nbformat": 4,
 "nbformat_minor": 2
}
